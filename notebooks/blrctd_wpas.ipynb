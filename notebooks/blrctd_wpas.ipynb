{
  "nbformat": 4,
  "nbformat_minor": 0,
  "metadata": {
    "colab": {
      "provenance": []
    },
    "kernelspec": {
      "name": "python3",
      "display_name": "Python 3"
    },
    "language_info": {
      "name": "python"
    }
  },
  "cells": [
    {
      "cell_type": "markdown",
      "source": [
        "We do everything as in the video https://www.youtube.com/watch?v=yTg7msDp2Q8 named as \"Binance Live Returns Crypto Trading Dashboard with Python and Streamlit\".\n",
        "\n"
      ],
      "metadata": {
        "id": "UYp3Qml9LA4n"
      }
    },
    {
      "cell_type": "markdown",
      "source": [],
      "metadata": {
        "id": "esWLaMLcLi08"
      }
    },
    {
      "cell_type": "markdown",
      "source": [
        "### 1. Install Unicorn Library: https://pypi.org/project/unicorn-binance-websocket-api/\n",
        "\n",
        "!pip install unicorn-binance-websocket-api\n",
        "\n",
        "An unofficial Python API to use the Binance Websocket API`s (com+testnet, com-margin+testnet, com-isolated_margin+testnet, com-futures+testnet, com-coin_futures, us, tr, jex, dex/chain+testnet) in a easy, fast, flexible, robust and fully-featured way."
      ],
      "metadata": {
        "id": "ZqQWp-fhLd98"
      }
    },
    {
      "cell_type": "code",
      "source": [
        "!pip install unicorn-binance-websocket-api"
      ],
      "metadata": {
        "colab": {
          "base_uri": "https://localhost:8080/"
        },
        "id": "PkUbx8BQLdFk",
        "outputId": "4fbea78f-4ce6-4261-a7c2-481fc4aac08d"
      },
      "execution_count": null,
      "outputs": [
        {
          "output_type": "stream",
          "name": "stdout",
          "text": [
            "Looking in indexes: https://pypi.org/simple, https://us-python.pkg.dev/colab-wheels/public/simple/\n",
            "Requirement already satisfied: unicorn-binance-websocket-api in /usr/local/lib/python3.7/dist-packages (1.41.0)\n",
            "Requirement already satisfied: flask in /usr/local/lib/python3.7/dist-packages (from unicorn-binance-websocket-api) (1.1.4)\n",
            "Requirement already satisfied: websockets==10.3 in /usr/local/lib/python3.7/dist-packages (from unicorn-binance-websocket-api) (10.3)\n",
            "Requirement already satisfied: ujson in /usr/local/lib/python3.7/dist-packages (from unicorn-binance-websocket-api) (5.5.0)\n",
            "Requirement already satisfied: flask-restful in /usr/local/lib/python3.7/dist-packages (from unicorn-binance-websocket-api) (0.3.9)\n",
            "Requirement already satisfied: requests in /usr/local/lib/python3.7/dist-packages (from unicorn-binance-websocket-api) (2.23.0)\n",
            "Requirement already satisfied: websocket-client in /usr/local/lib/python3.7/dist-packages (from unicorn-binance-websocket-api) (1.4.1)\n",
            "Requirement already satisfied: cheroot in /usr/local/lib/python3.7/dist-packages (from unicorn-binance-websocket-api) (8.6.0)\n",
            "Requirement already satisfied: psutil in /usr/local/lib/python3.7/dist-packages (from unicorn-binance-websocket-api) (5.4.8)\n",
            "Requirement already satisfied: colorama in /usr/local/lib/python3.7/dist-packages (from unicorn-binance-websocket-api) (0.4.5)\n",
            "Requirement already satisfied: unicorn-fy in /usr/local/lib/python3.7/dist-packages (from unicorn-binance-websocket-api) (0.12.2)\n",
            "Requirement already satisfied: more-itertools>=2.6 in /usr/local/lib/python3.7/dist-packages (from cheroot->unicorn-binance-websocket-api) (8.14.0)\n",
            "Requirement already satisfied: six>=1.11.0 in /usr/local/lib/python3.7/dist-packages (from cheroot->unicorn-binance-websocket-api) (1.15.0)\n",
            "Requirement already satisfied: jaraco.functools in /usr/local/lib/python3.7/dist-packages (from cheroot->unicorn-binance-websocket-api) (3.5.2)\n",
            "Requirement already satisfied: itsdangerous<2.0,>=0.24 in /usr/local/lib/python3.7/dist-packages (from flask->unicorn-binance-websocket-api) (1.1.0)\n",
            "Requirement already satisfied: Werkzeug<2.0,>=0.15 in /usr/local/lib/python3.7/dist-packages (from flask->unicorn-binance-websocket-api) (1.0.1)\n",
            "Requirement already satisfied: Jinja2<3.0,>=2.10.1 in /usr/local/lib/python3.7/dist-packages (from flask->unicorn-binance-websocket-api) (2.11.3)\n",
            "Requirement already satisfied: click<8.0,>=5.1 in /usr/local/lib/python3.7/dist-packages (from flask->unicorn-binance-websocket-api) (7.1.2)\n",
            "Requirement already satisfied: MarkupSafe>=0.23 in /usr/local/lib/python3.7/dist-packages (from Jinja2<3.0,>=2.10.1->flask->unicorn-binance-websocket-api) (2.0.1)\n",
            "Requirement already satisfied: aniso8601>=0.82 in /usr/local/lib/python3.7/dist-packages (from flask-restful->unicorn-binance-websocket-api) (9.0.1)\n",
            "Requirement already satisfied: pytz in /usr/local/lib/python3.7/dist-packages (from flask-restful->unicorn-binance-websocket-api) (2022.4)\n",
            "Requirement already satisfied: chardet<4,>=3.0.2 in /usr/local/lib/python3.7/dist-packages (from requests->unicorn-binance-websocket-api) (3.0.4)\n",
            "Requirement already satisfied: certifi>=2017.4.17 in /usr/local/lib/python3.7/dist-packages (from requests->unicorn-binance-websocket-api) (2022.9.24)\n",
            "Requirement already satisfied: idna<3,>=2.5 in /usr/local/lib/python3.7/dist-packages (from requests->unicorn-binance-websocket-api) (2.10)\n",
            "Requirement already satisfied: urllib3!=1.25.0,!=1.25.1,<1.26,>=1.21.1 in /usr/local/lib/python3.7/dist-packages (from requests->unicorn-binance-websocket-api) (1.24.3)\n"
          ]
        }
      ]
    },
    {
      "cell_type": "markdown",
      "source": [
        "### 2. UNICORN Binance WebSocket API"
      ],
      "metadata": {
        "id": "dLApWfR5NCrZ"
      }
    },
    {
      "cell_type": "markdown",
      "source": [
        "Create a multiplex websocket connection to Binance with just 3 lines of code:\n"
      ],
      "metadata": {
        "id": "tiSRqioWNp5d"
      }
    },
    {
      "cell_type": "markdown",
      "source": [
        "Original code (not for use):"
      ],
      "metadata": {
        "id": "7ZNVUtE_PHbj"
      }
    },
    {
      "cell_type": "code",
      "source": [
        "# Don't use it!\n",
        "import unicorn_binance_websocket_api\n",
        "\n",
        "ubwa = unicorn_binance_websocket_api.BinanceWebSocketApiManager(exchange=\"binance.com\")\n",
        "ubwa.create_stream(['trade', 'kline_1m'], ['btcusdt', 'bnbbtc', 'ethbtc'])"
      ],
      "metadata": {
        "id": "eTRdMJN6NGse"
      },
      "execution_count": null,
      "outputs": []
    },
    {
      "cell_type": "markdown",
      "source": [
        "Use this one:"
      ],
      "metadata": {
        "id": "BZPkJbH4PWnR"
      }
    },
    {
      "cell_type": "code",
      "source": [
        "#to do as in video:\n",
        "import unicorn_binance_websocket_api\n",
        "\n",
        "ubwa = unicorn_binance_websocket_api.BinanceWebSocketApiManager(exchange=\"binance.com\")\n",
        "ubwa.create_stream(['kline_1m'], ['btcusdt', 'ethusdt'], output='UnicornFy')"
      ],
      "metadata": {
        "colab": {
          "base_uri": "https://localhost:8080/",
          "height": 36
        },
        "id": "EsWAEHIUPW-H",
        "outputId": "656ddcdc-9ec8-4c30-d7a5-ca1ca882f57a"
      },
      "execution_count": null,
      "outputs": [
        {
          "output_type": "execute_result",
          "data": {
            "text/plain": [
              "'3996d8a45381-cb90-3016-d5a1-6f7cf4d9'"
            ],
            "application/vnd.google.colaboratory.intrinsic+json": {
              "type": "string"
            }
          },
          "metadata": {},
          "execution_count": 24
        }
      ]
    },
    {
      "cell_type": "markdown",
      "source": [
        "output='UnicornFy' is used for readability of keys in the next executed cell"
      ],
      "metadata": {
        "id": "Mc29L0LaQxbe"
      }
    },
    {
      "cell_type": "markdown",
      "source": [
        "So 'And 4 more lines to print the receives:'"
      ],
      "metadata": {
        "id": "HUPr7__XOA9l"
      }
    },
    {
      "cell_type": "code",
      "source": [
        "while True:\n",
        "    oldest_data_from_stream_buffer = ubwa.pop_stream_data_from_stream_buffer()\n",
        "    if oldest_data_from_stream_buffer:\n",
        "        print(oldest_data_from_stream_buffer)"
      ],
      "metadata": {
        "id": "gt5CBXKyN7Y2"
      },
      "execution_count": null,
      "outputs": []
    },
    {
      "cell_type": "markdown",
      "source": [
        "Re-coding:"
      ],
      "metadata": {
        "id": "efgnt-uRNpTF"
      }
    },
    {
      "cell_type": "code",
      "source": [
        "import unicorn_binance_websocket_api\n",
        "import pandas as pd\n",
        "from sqlalchemy import create_engine\n",
        "engine = create_engine('sqlite:///CryptoLive.db')"
      ],
      "metadata": {
        "id": "RSwPD1EeR6mC"
      },
      "execution_count": null,
      "outputs": []
    },
    {
      "cell_type": "markdown",
      "source": [
        "??? Откуда создаётся, откуда брать файл symbols.csv  \n",
        "Upd: предлагает тот, кто рассказывает посмотреть прошлые видео и выудить оттуда список валют (symbols)."
      ],
      "metadata": {
        "id": "SGG3-bb3TMQ9"
      }
    },
    {
      "cell_type": "code",
      "source": [
        "symbols = pd.read_csv('symbols.csv').name.to_list()"
      ],
      "metadata": {
        "id": "x8WVh98ESTGf"
      },
      "execution_count": null,
      "outputs": []
    },
    {
      "cell_type": "markdown",
      "source": [
        "Как вариант можно загрузить из описания видео, но всеровно надо смотреть видео, итак символы:"
      ],
      "metadata": {
        "id": "lZcdY8hHQ3Kx"
      }
    },
    {
      "cell_type": "code",
      "source": [
        "symbols = ['GALAUSDT',\n",
        " 'WANUSDT',\n",
        " 'COTIUSDT',\n",
        " 'BTTCUSDT',\n",
        " 'AXSUSDT',\n",
        " 'CELOUSDT',\n",
        " 'FTMUSDT',\n",
        " 'ANYUSDT',\n",
        " 'KEEPUSDT',\n",
        " 'LINKUSDT',\n",
        " 'XTZUSDT',\n",
        " 'SANDUSDT',\n",
        " 'SPELLUSDT',\n",
        " 'FILUSDT',\n",
        " 'REEFUSDT',\n",
        " 'C98USDT',\n",
        " 'IOTXUSDT',\n",
        " 'ADAUSDT',\n",
        " 'DOGEUSDT',\n",
        " 'ETCUSDT',\n",
        " 'TVKUSDT',\n",
        " 'RUNEUSDT',\n",
        " 'KSMUSDT',\n",
        " 'BTCUSDT',\n",
        " 'UNIUSDT',\n",
        " 'LAZIOUSDT',\n",
        " 'ALPHAUSDT',\n",
        " 'SOLUSDT',\n",
        " 'XRPUSDT',\n",
        " 'MANAUSDT',\n",
        " 'LRCUSDT',\n",
        " '1INCHUSDT',\n",
        " 'AVAXUSDT',\n",
        " 'NEARUSDT',\n",
        " 'WAXPUSDT',\n",
        " 'STXUSDT',\n",
        " 'ALGOUSDT',\n",
        " 'ATOMUSDT',\n",
        " 'OMGUSDT',\n",
        " 'RVNUSDT',\n",
        " 'BANDUSDT',\n",
        " 'CVCUSDT',\n",
        " 'GXSUSDT',\n",
        " 'THETAUSDT',\n",
        " 'ROSEUSDT',\n",
        " 'DYDXUSDT',\n",
        " 'KNCUSDT',\n",
        " 'BCHUSDT',\n",
        " 'QTUMUSDT',\n",
        " 'ONEUSDT',\n",
        " 'FIDAUSDT',\n",
        " 'ETHUSDT',\n",
        " 'OCEANUSDT',\n",
        " 'HIGHUSDT',\n",
        " 'XLMUSDT',\n",
        " 'DARUSDT',\n",
        " 'PEOPLEUSDT',\n",
        " 'ZRXUSDT',\n",
        " 'YFIUSDT',\n",
        " 'WINUSDT',\n",
        " 'ARPAUSDT',\n",
        " 'SNXUSDT',\n",
        " 'DUSKUSDT',\n",
        " 'FLUXUSDT',\n",
        " 'ENSUSDT',\n",
        " 'EOSUSDT',\n",
        " 'CELRUSDT',\n",
        " 'SRMUSDT',\n",
        " 'AAVEUSDT',\n",
        " 'QIUSDT',\n",
        " 'SXPUSDT',\n",
        " 'BAKEUSDT',\n",
        " 'XECUSDT',\n",
        " 'STORJUSDT',\n",
        " 'ILVUSDT',\n",
        " 'GLMRUSDT',\n",
        " 'BELUSDT',\n",
        " 'ENJUSDT',\n",
        " 'COSUSDT',\n",
        " 'NEOUSDT',\n",
        " 'YGGUSDT',\n",
        " 'USDPUSDT',\n",
        " 'TRXUSDT',\n",
        " 'ZECUSDT',\n",
        " 'BEAMUSDT',\n",
        " 'TLMUSDT',\n",
        " 'MATICUSDT',\n",
        " 'CHZUSDT',\n",
        " 'ATAUSDT',\n",
        " 'ARUSDT',\n",
        " 'DASHUSDT',\n",
        " 'FLOWUSDT',\n",
        " 'MOVRUSDT',\n",
        " 'GTOUSDT',\n",
        " 'CRVUSDT',\n",
        " 'ZILUSDT',\n",
        " 'LUNAUSDT',\n",
        " 'RSRUSDT',\n",
        " 'JOEUSDT',\n",
        " 'LOKAUSDT',\n",
        " 'ICPUSDT',\n",
        " 'MKRUSDT',\n",
        " 'SUSHIUSDT',\n",
        " 'CTKUSDT',\n",
        " 'KAVAUSDT',\n",
        " 'VOXELUSDT',\n",
        " 'NUUSDT',\n",
        " 'XEMUSDT',\n",
        " 'WINGUSDT',\n",
        " 'CVXUSDT',\n",
        " 'UNFIUSDT',\n",
        " 'KLAYUSDT',\n",
        " 'CTXCUSDT',\n",
        " 'PSGUSDT',\n",
        " 'LTCUSDT',\n",
        " 'ALICEUSDT',\n",
        " 'JASMYUSDT',\n",
        " 'MBOXUSDT',\n",
        " 'NMRUSDT',\n",
        " 'ANKRUSDT',\n",
        " 'MINAUSDT',\n",
        " 'CAKEUSDT',\n",
        " 'CHRUSDT',\n",
        " 'EGLDUSDT',\n",
        " 'RNDRUSDT',\n",
        " 'BICOUSDT',\n",
        " 'GTCUSDT',\n",
        " 'SYSUSDT',\n",
        " 'ANCUSDT',\n",
        " 'DREPUSDT',\n",
        " 'LTOUSDT',\n",
        " 'HBARUSDT',\n",
        " 'COMPUSDT',\n",
        " 'LINAUSDT',\n",
        " 'IDEXUSDT',\n",
        " 'IOTAUSDT',\n",
        " 'ICXUSDT',\n",
        " 'NULSUSDT',\n",
        " 'WAVESUSDT',\n",
        " 'XMRUSDT',\n",
        " 'MITHUSDT',\n",
        " 'TFUELUSDT',\n",
        " 'MTLUSDT',\n",
        " 'TOMOUSDT',\n",
        " 'PERLUSDT',\n",
        " 'KEYUSDT',\n",
        " 'FUNUSDT',\n",
        " 'RENUSDT',\n",
        " 'NKNUSDT',\n",
        " 'RLCUSDT',\n",
        " 'TROYUSDT',\n",
        " 'VITEUSDT',\n",
        " 'OGNUSDT',\n",
        " 'WRXUSDT',\n",
        " 'BTSUSDT',\n",
        " 'LSKUSDT',\n",
        " 'AIONUSDT',\n",
        " 'WTCUSDT',\n",
        " 'DATAUSDT',\n",
        " 'CTSIUSDT',\n",
        " 'HIVEUSDT',\n",
        " 'STMXUSDT',\n",
        " 'REPUSDT',\n",
        " 'SCUSDT',\n",
        " 'ZENUSDT',\n",
        " 'VTHOUSDT',\n",
        " 'IRISUSDT',\n",
        " 'YFIIUSDT',\n",
        " 'DIAUSDT',\n",
        " 'FIOUSDT',\n",
        " 'UMAUSDT',\n",
        " 'NBSUSDT',\n",
        " 'SUNUSDT',\n",
        " 'FLMUSDT',\n",
        " 'ORNUSDT',\n",
        " 'UTKUSDT',\n",
        " 'XVSUSDT',\n",
        " 'AKROUSDT',\n",
        " 'HARDUSDT',\n",
        " 'STRAXUSDT',\n",
        " 'SKLUSDT',\n",
        " 'JUVUSDT',\n",
        " 'ATMUSDT',\n",
        " 'ASRUSDT',\n",
        " 'TRUUSDT',\n",
        " 'FIROUSDT',\n",
        " 'SFPUSDT',\n",
        " 'BADGERUSDT',\n",
        " 'FISUSDT',\n",
        " 'OMUSDT',\n",
        " 'PONDUSDT',\n",
        " 'DEGOUSDT',\n",
        " 'PERPUSDT',\n",
        " 'CFXUSDT',\n",
        " 'EPSUSDT',\n",
        " 'TKOUSDT',\n",
        " 'BTGUSDT',\n",
        " 'MIRUSDT',\n",
        " 'FORTHUSDT',\n",
        " 'POLSUSDT',\n",
        " 'MDXUSDT',\n",
        " 'MASKUSDT',\n",
        " 'XVGUSDT',\n",
        " 'ERNUSDT',\n",
        " 'BONDUSDT',\n",
        " 'DEXEUSDT',\n",
        " 'RAYUSDT',\n",
        " 'FARMUSDT',\n",
        " 'ALPACAUSDT',\n",
        " 'FORUSDT',\n",
        " 'REQUSDT',\n",
        " 'TRIBEUSDT',\n",
        " 'DFUSDT',\n",
        " 'AGLDUSDT',\n",
        " 'BETAUSDT',\n",
        " 'RAREUSDT',\n",
        " 'ADXUSDT',\n",
        " 'BNXUSDT',\n",
        " 'CITYUSDT',\n",
        " 'KP3RUSDT',\n",
        " 'PORTOUSDT',\n",
        " 'POWRUSDT',\n",
        " 'AMPUSDT',\n",
        " 'PLAUSDT',\n",
        " 'PYRUSDT',\n",
        " 'ALCXUSDT',\n",
        " 'MCUSDT',\n",
        " 'FXSUSDT',\n",
        " 'OOKIUSDT',\n",
        " 'ACHUSDT',\n",
        " 'IMXUSDT',\n",
        " 'ACAUSDT',\n",
        " 'XNOUSDT']"
      ],
      "metadata": {
        "id": "2B-2zTTZQ3f5"
      },
      "execution_count": null,
      "outputs": []
    },
    {
      "cell_type": "markdown",
      "source": [],
      "metadata": {
        "id": "oLCGwnyMtczz"
      }
    },
    {
      "cell_type": "code",
      "source": [
        "len(symbols)"
      ],
      "metadata": {
        "colab": {
          "base_uri": "https://localhost:8080/"
        },
        "id": "kbMZoXuutZKE",
        "outputId": "e6d2baf4-cbe1-4e80-e25c-ae1ea9f5fce4"
      },
      "execution_count": null,
      "outputs": [
        {
          "output_type": "execute_result",
          "data": {
            "text/plain": [
              "233"
            ]
          },
          "metadata": {},
          "execution_count": 28
        }
      ]
    },
    {
      "cell_type": "markdown",
      "source": [
        "Предлагает делать как раньше, ==> ubwa"
      ],
      "metadata": {
        "id": "eo70q5HmuykH"
      }
    },
    {
      "cell_type": "code",
      "source": [
        "ubwa = unicorn_binance_websocket_api.BinanceWebSocketApiManager(exchange=\"binance.com\")"
      ],
      "metadata": {
        "id": "kQoAZo93uIsR"
      },
      "execution_count": null,
      "outputs": []
    },
    {
      "cell_type": "code",
      "source": [
        "ubwa.create_stream(['kline_1m'] , [i.lower() for i in symbols], output=\"UnicornFy\")"
      ],
      "metadata": {
        "colab": {
          "base_uri": "https://localhost:8080/",
          "height": 36
        },
        "id": "is--ysrKvUf6",
        "outputId": "35900c21-f447-4fe3-f114-010cc7e14bca"
      },
      "execution_count": null,
      "outputs": [
        {
          "output_type": "execute_result",
          "data": {
            "text/plain": [
              "'c64ceedfd12e-596c-f922-5672-98e2dcb8'"
            ],
            "application/vnd.google.colaboratory.intrinsic+json": {
              "type": "string"
            }
          },
          "metadata": {},
          "execution_count": 30
        }
      ]
    },
    {
      "cell_type": "markdown",
      "source": [],
      "metadata": {
        "id": "vIdeEecS8Ixy"
      }
    },
    {
      "cell_type": "code",
      "source": [
        "data = ubwa.pop_stream_data_from_stream_buffer()"
      ],
      "metadata": {
        "id": "5WaLLqZevrd1"
      },
      "execution_count": null,
      "outputs": []
    },
    {
      "cell_type": "markdown",
      "source": [
        "Реализуем в каждом тике потока функцию, которая делает нужную нам таблицу для дальнейшего использования."
      ],
      "metadata": {
        "id": "3Ds8eGdfADwQ"
      }
    },
    {
      "cell_type": "code",
      "source": [
        "def SQLimport(data):\n",
        "  time = data['event_time']\n",
        "  coin = data['symbol']\n",
        "  price = data['kline']['close_price']\n",
        "  frame = pd.DataFrame([[time,price]], columns = ['time','price'])\n",
        "  frame.time = pd.to_datetime(frame.time, unit='ms')\n",
        "  frame.price = frame.price.astype(float)\n",
        "  frame.to_sql(coin, engine, index=False, if_exists='append') #добавляем\n",
        "        #датафрейм, даём название таблицы, как название монеты (coin), убираем\n",
        "        #индексы, смотри видео\n",
        "  #print(frame)\n"
      ],
      "metadata": {
        "id": "gO5yPUZQ82iO"
      },
      "execution_count": null,
      "outputs": []
    },
    {
      "cell_type": "code",
      "source": [
        "while True:\n",
        "  data = ubwa.pop_stream_data_from_stream_buffer()\n",
        "  #Существует проблема ложных значений в данных, поэтому нужна проверка:\n",
        "  if data:\n",
        "    if len(data) > 3:\n",
        "      SQLimport(data) #актуальные цены\n"
      ],
      "metadata": {
        "id": "rEC2TkUY8sTC"
      },
      "execution_count": null,
      "outputs": []
    },
    {
      "cell_type": "markdown",
      "source": [
        "Немного изменилась ячейка с вызовом библиотек, поэтому ещё раз запишем нужные библиотеки и вызов базы данных, по идеи это новый файл со скриптом просматривается."
      ],
      "metadata": {
        "id": "bq7MRh3oChyd"
      }
    },
    {
      "cell_type": "code",
      "source": [
        "import pandas as pd\n",
        "import datetime as dt\n",
        "from sqlalchemy import create_engine\n",
        "engine = create_engine('sqlite:///CryptoLive.db')"
      ],
      "metadata": {
        "id": "Iw6pGWpKC3FL"
      },
      "execution_count": null,
      "outputs": []
    },
    {
      "cell_type": "code",
      "source": [
        "st.title('Welcome to the live Binance return screener')"
      ],
      "metadata": {
        "id": "JtllhVvzMIzx"
      },
      "execution_count": null,
      "outputs": []
    },
    {
      "cell_type": "code",
      "source": [
        "symbols = pd.read_sql('SELECT name FROM sqlite_master  WHERE type = \"table\"',\n",
        "                      engine.name.to_list())"
      ],
      "metadata": {
        "id": "8dDXRtMbBsVt"
      },
      "execution_count": null,
      "outputs": []
    },
    {
      "cell_type": "code",
      "source": [
        "#len(symbols)"
      ],
      "metadata": {
        "id": "2IO4xZLSDWnE"
      },
      "execution_count": null,
      "outputs": []
    },
    {
      "cell_type": "code",
      "source": [
        "#lookback = 1 #период оглядки назад"
      ],
      "metadata": {
        "id": "yejTN1L2CQ0Y"
      },
      "execution_count": null,
      "outputs": []
    },
    {
      "cell_type": "markdown",
      "source": [
        "Тотже самый взгляд назад, только берём из списка."
      ],
      "metadata": {
        "id": "wzwihPDpMasv"
      }
    },
    {
      "cell_type": "code",
      "source": [
        "lookback = st.selectbox('Pick the lookback in minutes', [1,15,30])"
      ],
      "metadata": {
        "id": "RaaVmD9rMZ_C"
      },
      "execution_count": null,
      "outputs": []
    },
    {
      "cell_type": "code",
      "source": [],
      "metadata": {
        "id": "Yrkfe7D2MaJt"
      },
      "execution_count": null,
      "outputs": []
    },
    {
      "cell_type": "code",
      "source": [
        "def qry(symbol, lookback):\n",
        "  now = dt.datetime.utcnow() #текущее время в UTC\n",
        "  before = now - dt.timedelta(minutes=lookback) #Сейчас минус минута\n",
        "  qry_str = f\"\"\"SELECT * FROM '{symbol}'\n",
        "  WHERE time >= '{before}'\"\"\"\n",
        "  df = pd.read_sql(qry_str, engine)\n",
        "  return df\n"
      ],
      "metadata": {
        "id": "V6luJq_BDks-"
      },
      "execution_count": null,
      "outputs": []
    },
    {
      "cell_type": "code",
      "source": [
        "qry('BTCUSDT', lookback) #цена на биток за последнюю минуту (посекундно)"
      ],
      "metadata": {
        "id": "Nna8ZbzqFVLG"
      },
      "execution_count": null,
      "outputs": []
    },
    {
      "cell_type": "markdown",
      "source": [
        "Совокупный доход находим в функции и иные величины (надо смотреть другие видео того же автора)."
      ],
      "metadata": {
        "id": "qoxWVe5cI-xJ"
      }
    },
    {
      "cell_type": "code",
      "source": [
        "def return_calc(df):\n",
        "  cum_ret = (df.price.pct_change() + 1).prod() - 1\n",
        "  return cum_ret"
      ],
      "metadata": {
        "id": "Hon9efgyIjAL"
      },
      "execution_count": null,
      "outputs": []
    },
    {
      "cell_type": "markdown",
      "source": [
        "Производительность биткойна за последнюю минуту:"
      ],
      "metadata": {
        "id": "1aiV_22XJh15"
      }
    },
    {
      "cell_type": "code",
      "source": [
        "return_calc(qry('BTCUSDT', 1))\n",
        "#return_calc(qry('BTCUSDT', 3)) к примеру за три последних минуты"
      ],
      "metadata": {
        "id": "EggMefF0Jlic"
      },
      "execution_count": null,
      "outputs": []
    },
    {
      "cell_type": "code",
      "source": [
        "def allreturns():\n",
        "  returns = []\n",
        "  for symbol in symbols:\n",
        "    returns.append(return_calc(qry(symbol, lookback)))\n",
        "  return returns"
      ],
      "metadata": {
        "id": "Jnib79n6J8rB"
      },
      "execution_count": null,
      "outputs": []
    },
    {
      "cell_type": "markdown",
      "source": [
        "Кнопка обновления:"
      ],
      "metadata": {
        "id": "FNXZPB61NIJ2"
      }
    },
    {
      "cell_type": "code",
      "source": [
        "if st.button('Update'):\n",
        "  allreturns()"
      ],
      "metadata": {
        "id": "EOVDnFo7NIXk"
      },
      "execution_count": null,
      "outputs": []
    },
    {
      "cell_type": "code",
      "source": [
        "all_ret = pd.DataFrame(allreturns(), symbols, columns=['Performance'])"
      ],
      "metadata": {
        "id": "-jphs1FWKeO-"
      },
      "execution_count": null,
      "outputs": []
    },
    {
      "cell_type": "code",
      "source": [
        "all_ret"
      ],
      "metadata": {
        "id": "QlKDGGpRLNS1"
      },
      "execution_count": null,
      "outputs": []
    },
    {
      "cell_type": "markdown",
      "source": [
        "Извлечём максимальную и наихудшую производительность:"
      ],
      "metadata": {
        "id": "w8pU90yJLQwC"
      }
    },
    {
      "cell_type": "code",
      "source": [
        "top = all_ret.Performance.nlargest(10)"
      ],
      "metadata": {
        "id": "JTcCqNLuLPuu"
      },
      "execution_count": null,
      "outputs": []
    },
    {
      "cell_type": "code",
      "source": [
        "#top"
      ],
      "metadata": {
        "id": "PlMaOebpLh-A"
      },
      "execution_count": null,
      "outputs": []
    },
    {
      "cell_type": "markdown",
      "source": [
        "Добавим функции записи:"
      ],
      "metadata": {
        "id": "22MnFTibNh7O"
      }
    },
    {
      "cell_type": "code",
      "source": [
        "st.write(top)"
      ],
      "metadata": {
        "id": "mka1xdyMNiLz"
      },
      "execution_count": null,
      "outputs": []
    },
    {
      "cell_type": "code",
      "source": [
        "worst = all_ret.Performance.nsmallest(10)"
      ],
      "metadata": {
        "id": "2YDWDssbLkmA"
      },
      "execution_count": null,
      "outputs": []
    },
    {
      "cell_type": "code",
      "source": [
        "#worst"
      ],
      "metadata": {
        "id": "8kgu2J1MLtiZ"
      },
      "execution_count": null,
      "outputs": []
    },
    {
      "cell_type": "code",
      "source": [
        "st.write(worst)"
      ],
      "metadata": {
        "id": "qt_h9GmoN3OL"
      },
      "execution_count": null,
      "outputs": []
    },
    {
      "cell_type": "markdown",
      "source": [
        "Панель мониторинга и streamlit"
      ],
      "metadata": {
        "id": "aHSBI9vdLw_Y"
      }
    },
    {
      "cell_type": "markdown",
      "source": [
        "Надо загрузить его как cкачать как скрипт py (через менюшку), перейти в консоль (терминал... Линукс) и ввести\n",
        "% streamlit run (путь к файлу)\n",
        "В видео просто перетащили файл после run и путь сам прописался.  \n",
        "Откроется окно браузера.)))  \n"
      ],
      "metadata": {
        "id": "stRy-BC3OPdr"
      }
    },
    {
      "cell_type": "markdown",
      "source": [
        "Следующий код добавлен уже в скаченном скрипте, да и немного изменил содержимое файла. Мы также поступим. Главное запустить скрипт на streamlit."
      ],
      "metadata": {
        "id": "VmEXWI3OPRa3"
      }
    },
    {
      "cell_type": "code",
      "source": [
        "cols = st.columns[2] #вроде так создаются две колонки рядом\n",
        "\n",
        "cols[0].title('Top Performers')\n",
        "cols[0].dataframe(top)\n",
        "cols[1].title('Worst Performers')\n",
        "cols[1].dataframe(worst)"
      ],
      "metadata": {
        "id": "Zw6V7J62Lva4"
      },
      "execution_count": null,
      "outputs": []
    },
    {
      "cell_type": "markdown",
      "source": [
        "Можно заменить dataframe на write"
      ],
      "metadata": {
        "id": "X5NU9a9ZQToT"
      }
    },
    {
      "cell_type": "code",
      "source": [
        "cols = st.columns[2] #вроде так создаются две колонки рядом\n",
        "\n",
        "cols[0].title('Top Performers')\n",
        "cols[0].write(top)\n",
        "cols[1].title('Worst Performers')\n",
        "cols[1].write(worst)"
      ],
      "metadata": {
        "id": "MLAtejgEQTzj"
      },
      "execution_count": null,
      "outputs": []
    }
  ]
}